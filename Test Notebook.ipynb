{
 "cells": [
  {
   "cell_type": "code",
   "execution_count": 13,
   "metadata": {
    "collapsed": false,
    "scrolled": true
   },
   "outputs": [
    {
     "name": "stdout",
     "output_type": "stream",
     "text": [
      "[\n",
      "  {\n",
      "    \"LastTradeSize\": \"0\",\n",
      "    \"LastTradeWithCurrency\": \"2,127.02\",\n",
      "    \"ID\": \"626307\",\n",
      "    \"LastTradeDateTimeLong\": \"Sep 13, 4:37PM EDT\",\n",
      "    \"Index\": \"INDEXSP\",\n",
      "    \"ChangePercent\": \"-32.02\",\n",
      "    \"StockSymbol\": \".INX\",\n",
      "    \"LastTradePrice\": \"2,127.02\",\n",
      "    \"LastTradeDateTime\": \"2016-09-13T16:37:05Z\",\n",
      "    \"PreviousClosePrice\": \"2159.04\",\n",
      "    \"LastTradeTime\": \"4:37PM EDT\"\n",
      "  }\n",
      "]\n"
     ]
    }
   ],
   "source": [
    ">>> from googlefinance import getQuotes\n",
    ">>> import json\n",
    ">>> print (json.dumps(getQuotes('^GSPC'), indent=2))"
   ]
  },
  {
   "cell_type": "code",
   "execution_count": null,
   "metadata": {
    "collapsed": true
   },
   "outputs": [],
   "source": []
  },
  {
   "cell_type": "code",
   "execution_count": null,
   "metadata": {
    "collapsed": true
   },
   "outputs": [],
   "source": []
  }
 ],
 "metadata": {
  "kernelspec": {
   "display_name": "Python [Root]",
   "language": "python",
   "name": "Python [Root]"
  },
  "language_info": {
   "codemirror_mode": {
    "name": "ipython",
    "version": 3
   },
   "file_extension": ".py",
   "mimetype": "text/x-python",
   "name": "python",
   "nbconvert_exporter": "python",
   "pygments_lexer": "ipython3",
   "version": "3.5.2"
  }
 },
 "nbformat": 4,
 "nbformat_minor": 0
}
